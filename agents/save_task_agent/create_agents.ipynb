{
 "cells": [
  {
   "cell_type": "code",
   "execution_count": 6,
   "metadata": {},
   "outputs": [],
   "source": [
    "from azure.identity import DefaultAzureCredential\n",
    "from azure.ai.projects import AIProjectClient\n",
    "from azure.ai.projects.models import CodeInterpreterTool\n",
    "from dotenv import load_dotenv\n",
    "import os\n",
    "\n",
    "load_dotenv(\"../../.env\")\n",
    "SETTINGS_FILE = \"k8s_agent.yaml\"\n",
    "IMPORTED_FILES = \"k8s_files.txt\"\n",
    "IMPORTED_FILE_IDS = \"k8s_file_ids.txt\""
   ]
  },
  {
   "cell_type": "code",
   "execution_count": 7,
   "metadata": {},
   "outputs": [],
   "source": [
    "project_client = AIProjectClient.from_connection_string(\n",
    "    credential=DefaultAzureCredential(),\n",
    "    conn_str=os.environ[\"PROJECT_CONNECTION_STRING\"],\n",
    ")"
   ]
  },
  {
   "cell_type": "code",
   "execution_count": 12,
   "metadata": {},
   "outputs": [],
   "source": [
    "def create_code_expert_agent():\n",
    "        print(\"This is Code Azure AI Agent Service .......\")    \n",
    "        code_interpreter = CodeInterpreterTool()\n",
    "\n",
    "        agent = project_client.agents.create_agent(\n",
    "                model=\"gpt-4o-mini\",\n",
    "                name=\"code-agent\",\n",
    "                instructions=\"You are helpful agent\",\n",
    "                tools=code_interpreter.definitions,                \n",
    "        )\n",
    "\n",
    "        return agent"
   ]
  },
  {
   "cell_type": "code",
   "execution_count": 13,
   "metadata": {},
   "outputs": [
    {
     "name": "stdout",
     "output_type": "stream",
     "text": [
      "This is Code Azure AI Agent Service .......\n",
      "Created agent: asst_vdgmy8boXp84eEPonzVoLn9k\n",
      "Saved agent ID to settings.yaml\n"
     ]
    }
   ],
   "source": [
    "import yaml\n",
    "import os\n",
    "\n",
    "if os.path.exists(SETTINGS_FILE):\n",
    "    with open(SETTINGS_FILE, \"r\") as file:\n",
    "        settings = yaml.safe_load(file)\n",
    "    if \"agent_id\" in settings:\n",
    "        agent_id = settings[\"agent_id\"]       \n",
    "        agent = project_client.agents.get_agent(agent_id)\n",
    "        print(f\"Reloaded vector store: {agent.id}\")\n",
    "else:\n",
    "    agent = create_code_expert_agent()\n",
    "    print(f\"Created agent: {agent.id}\")\n",
    "    # Save the vector store ID to settings.yaml\n",
    "    settings = {}\n",
    "    settings[\"agent_id\"] = agent.id\n",
    "    with open(SETTINGS_FILE, \"w\") as file:\n",
    "        yaml.dump(settings, file)\n",
    "    print(f\"Saved agent ID to settings.yaml\")\n"
   ]
  },
  {
   "cell_type": "code",
   "execution_count": null,
   "metadata": {},
   "outputs": [],
   "source": []
  }
 ],
 "metadata": {
  "kernelspec": {
   "display_name": "venv",
   "language": "python",
   "name": "python3"
  },
  "language_info": {
   "codemirror_mode": {
    "name": "ipython",
    "version": 3
   },
   "file_extension": ".py",
   "mimetype": "text/x-python",
   "name": "python",
   "nbconvert_exporter": "python",
   "pygments_lexer": "ipython3",
   "version": "3.13.2"
  }
 },
 "nbformat": 4,
 "nbformat_minor": 2
}
