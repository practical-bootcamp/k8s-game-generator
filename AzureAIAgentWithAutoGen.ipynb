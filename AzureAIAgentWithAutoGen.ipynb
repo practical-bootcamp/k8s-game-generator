{
 "cells": [
  {
   "cell_type": "code",
   "execution_count": 28,
   "metadata": {},
   "outputs": [
    {
     "data": {
      "text/plain": [
       "True"
      ]
     },
     "execution_count": 28,
     "metadata": {},
     "output_type": "execute_result"
    }
   ],
   "source": [
    "from azure.identity import DefaultAzureCredential\n",
    "from azure.ai.projects import AIProjectClient\n",
    "from azure.ai.projects.models import CodeInterpreterTool\n",
    "from autogen_agentchat.agents import AssistantAgent\n",
    "from autogen_agentchat.conditions import MaxMessageTermination, TextMentionTermination\n",
    "from autogen_agentchat.teams import RoundRobinGroupChat\n",
    "from autogen_agentchat.ui import Console\n",
    "from autogen_ext.models.openai import AzureOpenAIChatCompletionClient\n",
    "import os\n",
    "from dotenv import load_dotenv\n",
    "\n",
    "load_dotenv(\".env\")"
   ]
  },
  {
   "cell_type": "code",
   "execution_count": 29,
   "metadata": {},
   "outputs": [],
   "source": [
    "az_model_client = AzureOpenAIChatCompletionClient(\n",
    "    azure_deployment=os.getenv(\"AZURE_DEPLOYMENT\"),\n",
    "    model=os.getenv(\"MODE_NAME\"),\n",
    "    api_version=os.getenv(\"API_VERSION\"),\n",
    "    azure_endpoint=os.getenv(\"AZURE_ENDPOINT\"),\n",
    "    api_key=os.getenv(\"API_KEY\"),\n",
    ")"
   ]
  },
  {
   "cell_type": "code",
   "execution_count": 30,
   "metadata": {},
   "outputs": [
    {
     "name": "stdout",
     "output_type": "stream",
     "text": [
      "finish_reason='stop' content='The capital of France is Paris.' usage=RequestUsage(prompt_tokens=15, completion_tokens=7) cached=False logprobs=None thought=None\n"
     ]
    }
   ],
   "source": [
    "\n",
    "from autogen_core.models import UserMessage\n",
    "result = await az_model_client.create(\n",
    "    [UserMessage(content=\"What is the capital of France?\", source=\"user\")]\n",
    ")\n",
    "print(result)"
   ]
  },
  {
   "cell_type": "code",
   "execution_count": 31,
   "metadata": {},
   "outputs": [],
   "source": [
    "project_client = AIProjectClient.from_connection_string(\n",
    "    credential=DefaultAzureCredential(),\n",
    "    conn_str=os.environ[\"PROJECT_CONNECTION_STRING\"],\n",
    ")"
   ]
  },
  {
   "cell_type": "code",
   "execution_count": 32,
   "metadata": {},
   "outputs": [],
   "source": [
    "async def save_blog_agent(blog_content: str) -> str:\n",
    "\n",
    "    print(\"This is Code Interpreter for Azure AI Agent Service .......\")\n",
    "\n",
    "\n",
    "    code_interpreter = CodeInterpreterTool()\n",
    "        \n",
    "    agent = project_client.agents.create_agent(\n",
    "            model=\"gpt-4o-mini\",\n",
    "            name=\"my-agent\",\n",
    "            instructions=\"You are helpful agent\",\n",
    "            tools=code_interpreter.definitions,\n",
    "            # tool_resources=code_interpreter.resources,\n",
    "    )\n",
    "\n",
    "    thread = project_client.agents.create_thread()\n",
    "\n",
    "    message = project_client.agents.create_message(\n",
    "            thread_id=thread.id,\n",
    "            role=\"user\",\n",
    "            content=\"\"\"\n",
    "        \n",
    "                    You are my Python programming assistant. Generate code,save \"\"\"+ blog_content +\n",
    "                    \n",
    "                \"\"\"    \n",
    "                    and execute it according to the following requirements\n",
    "\n",
    "                    1. Save blog content to blog-{YYMMDDHHMMSS}.md\n",
    "\n",
    "                    2. give me the download this file link\n",
    "                \"\"\",\n",
    "    )\n",
    "    # create and execute a run\n",
    "    run = project_client.agents.create_and_process_run(thread_id=thread.id, assistant_id=agent.id)\n",
    "    print(f\"Run finished with status: {run.status}\")\n",
    "\n",
    "    if run.status == \"failed\":\n",
    "            # Check if you got \"Rate limit is exceeded.\", then you want to get more quota\n",
    "        print(f\"Run failed: {run.last_error}\")\n",
    "\n",
    "        # # delete the original file from the agent to free up space (note: this does not delete your version of the file)\n",
    "        # project_client.agents.delete_file(file.id)\n",
    "        # print(\"Deleted file\")\n",
    "\n",
    "        # print the messages from the agent\n",
    "    messages = project_client.agents.list_messages(thread_id=thread.id)\n",
    "    print(f\"Messages: {messages}\")\n",
    "\n",
    "        # get the most recent message from the assistant\n",
    "    last_msg =  messages.get_last_text_message_by_role(\"assistant\")\n",
    "    if last_msg:\n",
    "        print(f\"Last Message: {last_msg.text.value}\")\n",
    "\n",
    "        # print(f\"File: {messages.file_path_annotations}\")\n",
    "\n",
    "\n",
    "    for file_path_annotation in messages.file_path_annotations:\n",
    "\n",
    "        file_name = os.path.basename(file_path_annotation.text)\n",
    "\n",
    "        project_client.agents.save_file(file_id=file_path_annotation.file_path.file_id, file_name=file_name,target_dir=\"./blog\")\n",
    "        \n",
    "\n",
    "    project_client.agents.delete_agent(agent.id)\n",
    "    print(\"Deleted agent\")\n",
    "\n",
    "\n",
    "        # project_client.close()\n",
    "\n",
    "\n",
    "    return \"Saved\"\n",
    "\n",
    "\n",
    "    \n",
    "    "
   ]
  },
  {
   "cell_type": "code",
   "execution_count": 33,
   "metadata": {},
   "outputs": [],
   "source": [
    "from autogen_ext.agents.web_surfer import MultimodalWebSurfer\n",
    "\n",
    "bing_search_agent = MultimodalWebSurfer(\n",
    "        name=\"web_surfer\",\n",
    "        model_client=az_model_client,\n",
    "        start_page=\"https://www.google.com\",\n",
    "    )"
   ]
  },
  {
   "cell_type": "code",
   "execution_count": 34,
   "metadata": {},
   "outputs": [],
   "source": [
    "save_blog_content_agent = AssistantAgent(\n",
    "    name=\"save_blog_content_agent\",\n",
    "    model_client=az_model_client,\n",
    "    tools=[save_blog_agent],\n",
    "    system_message=\"\"\"\n",
    "        Save blog content. Respond with 'Saved' to when your blog are saved.\n",
    "    \"\"\"\n",
    ")"
   ]
  },
  {
   "cell_type": "code",
   "execution_count": 35,
   "metadata": {},
   "outputs": [],
   "source": [
    "write_agent = AssistantAgent(\n",
    "    name=\"write_agent\",\n",
    "    model_client=az_model_client,\n",
    "    system_message=\"\"\"\n",
    "        You are a blog writer, please help me write a blog based on bing search content.\"\n",
    "    \"\"\"\n",
    ")\n"
   ]
  },
  {
   "cell_type": "code",
   "execution_count": 36,
   "metadata": {},
   "outputs": [],
   "source": [
    "text_termination = TextMentionTermination(\"Saved\")\n",
    "# Define a termination condition that stops the task after 5 messages.\n",
    "max_message_termination = MaxMessageTermination(10)\n",
    "# Combine the termination conditions using the `|`` operator so that the\n",
    "# task stops when either condition is met.\n",
    "termination = text_termination | max_message_termination"
   ]
  },
  {
   "cell_type": "code",
   "execution_count": 37,
   "metadata": {},
   "outputs": [],
   "source": [
    "\n",
    "reflection_team = RoundRobinGroupChat([bing_search_agent, write_agent,save_blog_content_agent], termination_condition=termination)"
   ]
  },
  {
   "cell_type": "code",
   "execution_count": 38,
   "metadata": {},
   "outputs": [
    {
     "name": "stdout",
     "output_type": "stream",
     "text": [
      "---------- user ----------\n",
      "\n",
      "\n",
      "                    I am writing a blog about machine learning. Search for the following 3 questions and write a Chinese blog based on the search results ,save it\n",
      "                    \n",
      "                    1. What is Machine Learning?\n",
      "                    2. The difference between AI and ML\n",
      "                    3. The history of Machine Learning\n",
      "                               \n",
      "\n",
      "    \n",
      "---------- web_surfer ----------\n",
      "I typed 'What is Machine Learning?' into the browser search bar.\n",
      "\n",
      "The web browser is open to the page [What is Machine Learning? - Search](https://www.bing.com/search?q=What+is+Machine+Learning%3F&FORM=QBLH).\n",
      "The viewport shows 23% of the webpage, and is positioned at the top of the page\n",
      "The following text is visible in the viewport:\n",
      "\n",
      "Skip to content\n",
      "What is Machine Learning?Deep search\n",
      "All\n",
      "Copilot\n",
      "Images\n",
      "Videos\n",
      "Maps\n",
      "More\n",
      "Tools\n",
      "Copilot Answer\n",
      "GeeksForGeeks\n",
      "https://www.geeksforgeeks.org › ml-machine-learningWhat is Machine Learning? - GeeksforGeeksMachine learning is important because it allows \n",
      "computers to \n",
      "learn from data and improve their performance on specific tasks without being explicitly programmed. This ability to learn from data and a… \n",
      "See more\n",
      "How Machine Learning Algorithms Work?\n",
      "A machine learning algorithm works by learning patterns and relationships from data to make predictions or decisions without being explicitly programmed for each task. H… \n",
      "See more\n",
      "GeeksForGeeks\n",
      "Machine Learning Lifecycle\n",
      "The machine learning lifecycleincludes: 1. Defining the Problem:Clearly identify … \n",
      "See more\n",
      "GeeksForGeeks\n",
      "Types of Machine Learning\n",
      "1. Supervised Machine Learning\n",
      "Supervised learning algorithmsare trained on the labeled dataset. They learn to map input features to targets based on labeled training data… \n",
      "See more\n",
      "GeeksForGeeks\n",
      "7:52\n",
      "Machine Learning | What Is Machine Learning? | Introduction To Machine Learning | 2024 | SimplilearnYouTube\n",
      "Simplilearn\n",
      "4.9M views\n",
      "Sep 19, 2018\n",
      "Explore more\n",
      "Python\n",
      "Overfitting\n",
      "Deep learning\n",
      "Neural network\n",
      "What is Machine Learning (ML)?1\n",
      "2\n",
      "3\n",
      "Machine Learning (ML) is a subfield of artificial intelligence (AI) and computer science that focuses on using data and algorithms to enable machines to learn from experience, much like humans do. This technology allows computers to improve their performance on specific tasks without being explicitly programmed for each task\n",
      "1\n",
      "2\n",
      ".\n",
      "At its core, machine learning involves three main components:\n",
      "A Decision Process: The algorithm makes predictions or classifications based on input data, which can be labeled or unlabeled.\n",
      "See results from:\n",
      "AI Generated\n",
      "GeeksforGeeks\n",
      "Machinelearning\n",
      "\n",
      "The following metadata was extracted from the webpage:\n",
      "\n",
      "{\n",
      "    \"meta_tags\": {\n",
      "        \"referrer\": \"origin-when-cross-origin\",\n",
      "        \"SystemEntropyOriginTrialToken\": \"A5is4nwJJVnhaJpUr1URgj4vvAXSiHoK0VBbM9fawMskbDUj9WUREpa3JzGAo6xd1Cp2voQEG1h6NQ71AsMznU8AAABxeyJvcmlnaW4iOiJodHRwczovL3d3dy5iaW5nLmNvbTo0NDMiLCJmZWF0dXJlIjoiTXNVc2VyQWdlbnRMYXVuY2hOYXZUeXBlIiwiZXhwaXJ5IjoxNzUzNzQ3MjAwLCJpc1N1YmRvbWFpbiI6dHJ1ZX0=\",\n",
      "        \"og:description\": \"Intelligent search from Bing makes it easier to quickly find what you\\u2019re looking for and rewards you.\",\n",
      "        \"og:site_name\": \"Bing\",\n",
      "        \"og:title\": \"What is Machine Learning? - Bing\",\n",
      "        \"og:url\": \"https://www.bing.com/search?q=What+is+Machine+Learning%3F&FORM=QBLH\",\n",
      "        \"fb:app_id\": \"3732605936979161\",\n",
      "        \"og:image\": \"http://www.bing.com/sa/simg/facebook_sharing_5.png\",\n",
      "        \"og:type\": \"website\",\n",
      "        \"og:image:width\": \"600\",\n",
      "        \"og:image:height\": \"315\"\n",
      "    }\n",
      "}\n",
      "\n",
      "Here is a screenshot of the page.\n",
      "<image>\n",
      "---------- write_agent ----------\n",
      "### 博客：机器学习的基础知识\n",
      "\n",
      "在数字化与智能化迅速发展的今天，机器学习（Machine Learning，ML）作为人工智能（Artificial Intelligence，AI）的重要组成部分，正在各个行业中展现出巨大的潜力和应用价值。本文将为您简要介绍机器学习的定义、机器学习与人工智能的区别，以及机器学习的发展历程。\n",
      "\n",
      "#### 什么是机器学习？\n",
      "\n",
      "机器学习是一种允许计算机从数据中学习和改进其在特定任务上表现的技术，无需针对每个任务进行明确编程。机器学习的核心在于以下三大组件：\n",
      "\n",
      "1. **决策过程**：算法根据输入数据（可以是有标签或无标签的数据）作出预测或分类。\n",
      "2. **模型训练**：通过学习模式与关系，算法改进其对新数据的预测能力。\n",
      "3. **反馈机制**：利用所获得的结果来更新模型以提高未来的预测准确性。\n",
      "\n",
      "简单来说，机器学习通过对数据的分析，帮助计算机完成各种复杂的任务，从图像识别到自然语言处理，几乎渗透到我们生活的方方面面。\n",
      "\n",
      "#### 人工智能与机器学习的区别\n",
      "\n",
      "虽然机器学习是人工智能的一个子集，但它们之间有着关键的区别：\n",
      "\n",
      "- **人工智能（AI）**是一个广泛的概念，涵盖所有使计算机执行任务的技术，这些任务通常需要人类智能。人工智能包括但不限于机器学习。\n",
      "- **机器学习（ML）**则是实现人工智能的一种方法，尤其是通过数据和算法来寻求模式与预测。换句话说，所有的机器学习都是人工智能，但并非所有的人工智能都是机器学习。\n",
      "\n",
      "这种关系可以通过一个简单的框架来理解：人工智能是一个大篱笆，机器学习是这个篱笆下的一部分。\n",
      "\n",
      "#### 机器学习的发展历史\n",
      "\n",
      "机器学习的历史可以追溯到20世纪50年代。当时，科学家们开始研究如何通过程序设计使计算机能够“学习”。1959年，麻省理工学院的Arthur Samuel首次提出“机器学习”这一术语，并通过一个跳棋程序展示了计算机如何在不断的游戏中改进策略。\n",
      "\n",
      "随着技术的发展，20世纪80年代和90年代，机器学习得到了进一步的研究和应用，尤其是在神经网络方面。近年来，深度学习的兴起将机器学习推向了一个新的高度，特别是在大数据与计算能力显著提升的背景下，机器学习的实际应用如语音识别、图像处理等，得到了前所未有的发展。\n",
      "\n",
      "#### 结论\n",
      "\n",
      "总体而言，机器学习是一项重要而复杂的技术，它通过让计算机从经验中学习，改变了我们与技术的互动方式。随着未来技术的不断进步，机器学习将会在各个领域发挥更加重要的作用。\n",
      "\n",
      "希望本篇博客能对您了解机器学习有一定帮助！如您对机器学习有更多的疑问或想法，欢迎在评论区与我们交流！\n",
      "This is Code Interpreter for Azure AI Agent Service .......\n"
     ]
    },
    {
     "name": "stderr",
     "output_type": "stream",
     "text": [
      "/workspaces/k8s-game-generator/venv/lib/python3.13/site-packages/msal/token_cache.py:164: DeprecationWarning: Use list(search(...)) instead to explicitly get a list.\n",
      "  warnings.warn(\n"
     ]
    },
    {
     "name": "stdout",
     "output_type": "stream",
     "text": [
      "Run finished with status: RunStatus.COMPLETED\n",
      "Messages: {'object': 'list', 'data': [{'id': 'msg_9aKvU9DguzAJbsQU5T3umy0B', 'object': 'thread.message', 'created_at': 1740704243, 'assistant_id': 'asst_dydQDcfR0gUtEPPqAZFOIITO', 'thread_id': 'thread_oDsoj88VYPs1Gyqo5ORzjIuC', 'run_id': 'run_Tjd37VynF2PN416FNBF6yUNA', 'role': 'assistant', 'content': [{'type': 'text', 'text': {'value': 'The blog content has been saved successfully. You can download it using the link below:\\n\\n[Download the blog file](sandbox:/mnt/data/blog-250228005723.md)', 'annotations': [{'type': 'file_path', 'text': 'sandbox:/mnt/data/blog-250228005723.md', 'start_index': 114, 'end_index': 152, 'file_path': {'file_id': 'assistant-NF1uGdRt1JwJCy6NNACyNy'}}]}}], 'attachments': [{'file_id': 'assistant-NF1uGdRt1JwJCy6NNACyNy', 'tools': [{'type': 'code_interpreter'}]}], 'metadata': {}}, {'id': 'msg_4EeEogYQEMhmeYaSwRXVOjo7', 'object': 'thread.message', 'created_at': 1740704233, 'assistant_id': None, 'thread_id': 'thread_oDsoj88VYPs1Gyqo5ORzjIuC', 'run_id': None, 'role': 'user', 'content': [{'type': 'text', 'text': {'value': '\\n        \\n                    You are my Python programming assistant. Generate code,save ### 博客：机器学习的基础知识\\n\\n在数字化与智能化迅速发展的今天，机器学习（Machine Learning，ML）作为人工智能（Artificial Intelligence，AI）的重要组成部分，正在各个行业中展现出巨大的潜力和应用价值。本文将为您简要介绍机器学习的定义、机器学习与人工智能的区别，以及机器学习的发展历程。\\n\\n#### 什么是机器学习？\\n\\n机器学习是一种允许计算机从数据中学习和改进其在特定任务上表现的技术，无需针对每个任务进行明确编程。机器学习的核心在于以下三大组件：\\n\\n1. **决策过程**：算法根据输入数据（可以是有标签或无标签的数据）作出预测或分类。\\n2. **模型训练**：通过学习模式与关系，算法改进其对新数据的预测能力。\\n3. **反馈机制**：利用所获得的结果来更新模型以提高未来的预测准确性。\\n\\n简单来说，机器学习通过对数据的分析，帮助计算机完成各种复杂的任务，从图像识别到自然语言处理，几乎渗透到我们生活的方方面面。\\n\\n#### 人工智能与机器学习的区别\\n\\n虽然机器学习是人工智能的一个子集，但它们之间有着关键的区别：\\n\\n- **人工智能（AI）**是一个广泛的概念，涵盖所有使计算机执行任务的技术，这些任务通常需要人类智能。人工智能包括但不限于机器学习。\\n- **机器学习（ML）**则是实现人工智能的一种方法，尤其是通过数据和算法来寻求模式与预测。换句话说，所有的机器学习都是人工智能，但并非所有的人工智能都是机器学习。\\n\\n这种关系可以通过一个简单的框架来理解：人工智能是一个大篱笆，机器学习是这个篱笆下的一部分。\\n\\n#### 机器学习的发展历史\\n\\n机器学习的历史可以追溯到20世纪50年代。当时，科学家们开始研究如何通过程序设计使计算机能够“学习”。1959年，麻省理工学院的Arthur Samuel首次提出“机器学习”这一术语，并通过一个跳棋程序展示了计算机如何在不断的游戏中改进策略。\\n\\n随着技术的发展，20世纪80年代和90年代，机器学习得到了进一步的研究和应用，尤其是在神经网络方面。近年来，深度学习的兴起将机器学习推向了一个新的高度，特别是在大数据与计算能力显著提升的背景下，机器学习的实际应用如语音识别、图像处理等，得到了前所未有的发展。\\n\\n#### 结论\\n\\n总体而言，机器学习是一项重要而复杂的技术，它通过让计算机从经验中学习，改变了我们与技术的互动方式。随着未来技术的不断进步，机器学习将会在各个领域发挥更加重要的作用。\\n\\n希望本篇博客能对您了解机器学习有一定帮助！如您对机器学习有更多的疑问或想法，欢迎在评论区与我们交流！    \\n                    and execute it according to the following requirements\\n\\n                    1. Save blog content to blog-{YYMMDDHHMMSS}.md\\n\\n                    2. give me the download this file link\\n                ', 'annotations': []}}], 'attachments': [], 'metadata': {}}], 'first_id': 'msg_9aKvU9DguzAJbsQU5T3umy0B', 'last_id': 'msg_4EeEogYQEMhmeYaSwRXVOjo7', 'has_more': False}\n",
      "Last Message: The blog content has been saved successfully. You can download it using the link below:\n",
      "\n",
      "[Download the blog file](sandbox:/mnt/data/blog-250228005723.md)\n",
      "Deleted agent\n",
      "---------- save_blog_content_agent ----------\n",
      "[FunctionCall(id='call_dSwbRNcF1fGOZCQwjQplQMwv', arguments='{\"blog_content\":\"### 博客：机器学习的基础知识\\\\n\\\\n在数字化与智能化迅速发展的今天，机器学习（Machine Learning，ML）作为人工智能（Artificial Intelligence，AI）的重要组成部分，正在各个行业中展现出巨大的潜力和应用价值。本文将为您简要介绍机器学习的定义、机器学习与人工智能的区别，以及机器学习的发展历程。\\\\n\\\\n#### 什么是机器学习？\\\\n\\\\n机器学习是一种允许计算机从数据中学习和改进其在特定任务上表现的技术，无需针对每个任务进行明确编程。机器学习的核心在于以下三大组件：\\\\n\\\\n1. **决策过程**：算法根据输入数据（可以是有标签或无标签的数据）作出预测或分类。\\\\n2. **模型训练**：通过学习模式与关系，算法改进其对新数据的预测能力。\\\\n3. **反馈机制**：利用所获得的结果来更新模型以提高未来的预测准确性。\\\\n\\\\n简单来说，机器学习通过对数据的分析，帮助计算机完成各种复杂的任务，从图像识别到自然语言处理，几乎渗透到我们生活的方方面面。\\\\n\\\\n#### 人工智能与机器学习的区别\\\\n\\\\n虽然机器学习是人工智能的一个子集，但它们之间有着关键的区别：\\\\n\\\\n- **人工智能（AI）**是一个广泛的概念，涵盖所有使计算机执行任务的技术，这些任务通常需要人类智能。人工智能包括但不限于机器学习。\\\\n- **机器学习（ML）**则是实现人工智能的一种方法，尤其是通过数据和算法来寻求模式与预测。换句话说，所有的机器学习都是人工智能，但并非所有的人工智能都是机器学习。\\\\n\\\\n这种关系可以通过一个简单的框架来理解：人工智能是一个大篱笆，机器学习是这个篱笆下的一部分。\\\\n\\\\n#### 机器学习的发展历史\\\\n\\\\n机器学习的历史可以追溯到20世纪50年代。当时，科学家们开始研究如何通过程序设计使计算机能够“学习”。1959年，麻省理工学院的Arthur Samuel首次提出“机器学习”这一术语，并通过一个跳棋程序展示了计算机如何在不断的游戏中改进策略。\\\\n\\\\n随着技术的发展，20世纪80年代和90年代，机器学习得到了进一步的研究和应用，尤其是在神经网络方面。近年来，深度学习的兴起将机器学习推向了一个新的高度，特别是在大数据与计算能力显著提升的背景下，机器学习的实际应用如语音识别、图像处理等，得到了前所未有的发展。\\\\n\\\\n#### 结论\\\\n\\\\n总体而言，机器学习是一项重要而复杂的技术，它通过让计算机从经验中学习，改变了我们与技术的互动方式。随着未来技术的不断进步，机器学习将会在各个领域发挥更加重要的作用。\\\\n\\\\n希望本篇博客能对您了解机器学习有一定帮助！如您对机器学习有更多的疑问或想法，欢迎在评论区与我们交流！\"}', name='save_blog_agent')]\n",
      "---------- save_blog_content_agent ----------\n",
      "[FunctionExecutionResult(content='Saved', call_id='call_dSwbRNcF1fGOZCQwjQplQMwv', is_error=False)]\n",
      "---------- save_blog_content_agent ----------\n",
      "Saved\n"
     ]
    },
    {
     "data": {
      "text/plain": [
       "TaskResult(messages=[TextMessage(source='user', models_usage=None, content='\\n\\n                    I am writing a blog about machine learning. Search for the following 3 questions and write a Chinese blog based on the search results ,save it\\n                    \\n                    1. What is Machine Learning?\\n                    2. The difference between AI and ML\\n                    3. The history of Machine Learning\\n                               \\n\\n    ', type='TextMessage'), MultiModalMessage(source='web_surfer', models_usage=RequestUsage(prompt_tokens=2533, completion_tokens=116), content=['I typed \\'What is Machine Learning?\\' into the browser search bar.\\n\\nThe web browser is open to the page [What is Machine Learning? - Search](https://www.bing.com/search?q=What+is+Machine+Learning%3F&FORM=QBLH).\\nThe viewport shows 23% of the webpage, and is positioned at the top of the page\\nThe following text is visible in the viewport:\\n\\nSkip to content\\nWhat is Machine Learning?Deep search\\nAll\\nCopilot\\nImages\\nVideos\\nMaps\\nMore\\nTools\\nCopilot Answer\\nGeeksForGeeks\\nhttps://www.geeksforgeeks.org › ml-machine-learningWhat is Machine Learning? - GeeksforGeeksMachine learning is important because it allows \\ncomputers to \\nlearn from data and improve their performance on specific tasks without being explicitly programmed. This ability to learn from data and a… \\nSee more\\nHow Machine Learning Algorithms Work?\\nA machine learning algorithm works by learning patterns and relationships from data to make predictions or decisions without being explicitly programmed for each task. H… \\nSee more\\nGeeksForGeeks\\nMachine Learning Lifecycle\\nThe machine learning lifecycleincludes: 1. Defining the Problem:Clearly identify … \\nSee more\\nGeeksForGeeks\\nTypes of Machine Learning\\n1. Supervised Machine Learning\\nSupervised learning algorithmsare trained on the labeled dataset. They learn to map input features to targets based on labeled training data… \\nSee more\\nGeeksForGeeks\\n7:52\\nMachine Learning | What Is Machine Learning? | Introduction To Machine Learning | 2024 | SimplilearnYouTube\\nSimplilearn\\n4.9M views\\nSep 19, 2018\\nExplore more\\nPython\\nOverfitting\\nDeep learning\\nNeural network\\nWhat is Machine Learning (ML)?1\\n2\\n3\\nMachine Learning (ML) is a subfield of artificial intelligence (AI) and computer science that focuses on using data and algorithms to enable machines to learn from experience, much like humans do. This technology allows computers to improve their performance on specific tasks without being explicitly programmed for each task\\n1\\n2\\n.\\nAt its core, machine learning involves three main components:\\nA Decision Process: The algorithm makes predictions or classifications based on input data, which can be labeled or unlabeled.\\nSee results from:\\nAI Generated\\nGeeksforGeeks\\nMachinelearning\\n\\nThe following metadata was extracted from the webpage:\\n\\n{\\n    \"meta_tags\": {\\n        \"referrer\": \"origin-when-cross-origin\",\\n        \"SystemEntropyOriginTrialToken\": \"A5is4nwJJVnhaJpUr1URgj4vvAXSiHoK0VBbM9fawMskbDUj9WUREpa3JzGAo6xd1Cp2voQEG1h6NQ71AsMznU8AAABxeyJvcmlnaW4iOiJodHRwczovL3d3dy5iaW5nLmNvbTo0NDMiLCJmZWF0dXJlIjoiTXNVc2VyQWdlbnRMYXVuY2hOYXZUeXBlIiwiZXhwaXJ5IjoxNzUzNzQ3MjAwLCJpc1N1YmRvbWFpbiI6dHJ1ZX0=\",\\n        \"og:description\": \"Intelligent search from Bing makes it easier to quickly find what you\\\\u2019re looking for and rewards you.\",\\n        \"og:site_name\": \"Bing\",\\n        \"og:title\": \"What is Machine Learning? - Bing\",\\n        \"og:url\": \"https://www.bing.com/search?q=What+is+Machine+Learning%3F&FORM=QBLH\",\\n        \"fb:app_id\": \"3732605936979161\",\\n        \"og:image\": \"http://www.bing.com/sa/simg/facebook_sharing_5.png\",\\n        \"og:type\": \"website\",\\n        \"og:image:width\": \"600\",\\n        \"og:image:height\": \"315\"\\n    }\\n}\\n\\nHere is a screenshot of the page.', <autogen_core._image.Image object at 0x739a813a7890>], type='MultiModalMessage'), TextMessage(source='write_agent', models_usage=RequestUsage(prompt_tokens=1873, completion_tokens=671), content='### 博客：机器学习的基础知识\\n\\n在数字化与智能化迅速发展的今天，机器学习（Machine Learning，ML）作为人工智能（Artificial Intelligence，AI）的重要组成部分，正在各个行业中展现出巨大的潜力和应用价值。本文将为您简要介绍机器学习的定义、机器学习与人工智能的区别，以及机器学习的发展历程。\\n\\n#### 什么是机器学习？\\n\\n机器学习是一种允许计算机从数据中学习和改进其在特定任务上表现的技术，无需针对每个任务进行明确编程。机器学习的核心在于以下三大组件：\\n\\n1. **决策过程**：算法根据输入数据（可以是有标签或无标签的数据）作出预测或分类。\\n2. **模型训练**：通过学习模式与关系，算法改进其对新数据的预测能力。\\n3. **反馈机制**：利用所获得的结果来更新模型以提高未来的预测准确性。\\n\\n简单来说，机器学习通过对数据的分析，帮助计算机完成各种复杂的任务，从图像识别到自然语言处理，几乎渗透到我们生活的方方面面。\\n\\n#### 人工智能与机器学习的区别\\n\\n虽然机器学习是人工智能的一个子集，但它们之间有着关键的区别：\\n\\n- **人工智能（AI）**是一个广泛的概念，涵盖所有使计算机执行任务的技术，这些任务通常需要人类智能。人工智能包括但不限于机器学习。\\n- **机器学习（ML）**则是实现人工智能的一种方法，尤其是通过数据和算法来寻求模式与预测。换句话说，所有的机器学习都是人工智能，但并非所有的人工智能都是机器学习。\\n\\n这种关系可以通过一个简单的框架来理解：人工智能是一个大篱笆，机器学习是这个篱笆下的一部分。\\n\\n#### 机器学习的发展历史\\n\\n机器学习的历史可以追溯到20世纪50年代。当时，科学家们开始研究如何通过程序设计使计算机能够“学习”。1959年，麻省理工学院的Arthur Samuel首次提出“机器学习”这一术语，并通过一个跳棋程序展示了计算机如何在不断的游戏中改进策略。\\n\\n随着技术的发展，20世纪80年代和90年代，机器学习得到了进一步的研究和应用，尤其是在神经网络方面。近年来，深度学习的兴起将机器学习推向了一个新的高度，特别是在大数据与计算能力显著提升的背景下，机器学习的实际应用如语音识别、图像处理等，得到了前所未有的发展。\\n\\n#### 结论\\n\\n总体而言，机器学习是一项重要而复杂的技术，它通过让计算机从经验中学习，改变了我们与技术的互动方式。随着未来技术的不断进步，机器学习将会在各个领域发挥更加重要的作用。\\n\\n希望本篇博客能对您了解机器学习有一定帮助！如您对机器学习有更多的疑问或想法，欢迎在评论区与我们交流！', type='TextMessage'), ToolCallRequestEvent(source='save_blog_content_agent', models_usage=RequestUsage(prompt_tokens=2585, completion_tokens=718), content=[FunctionCall(id='call_dSwbRNcF1fGOZCQwjQplQMwv', arguments='{\"blog_content\":\"### 博客：机器学习的基础知识\\\\n\\\\n在数字化与智能化迅速发展的今天，机器学习（Machine Learning，ML）作为人工智能（Artificial Intelligence，AI）的重要组成部分，正在各个行业中展现出巨大的潜力和应用价值。本文将为您简要介绍机器学习的定义、机器学习与人工智能的区别，以及机器学习的发展历程。\\\\n\\\\n#### 什么是机器学习？\\\\n\\\\n机器学习是一种允许计算机从数据中学习和改进其在特定任务上表现的技术，无需针对每个任务进行明确编程。机器学习的核心在于以下三大组件：\\\\n\\\\n1. **决策过程**：算法根据输入数据（可以是有标签或无标签的数据）作出预测或分类。\\\\n2. **模型训练**：通过学习模式与关系，算法改进其对新数据的预测能力。\\\\n3. **反馈机制**：利用所获得的结果来更新模型以提高未来的预测准确性。\\\\n\\\\n简单来说，机器学习通过对数据的分析，帮助计算机完成各种复杂的任务，从图像识别到自然语言处理，几乎渗透到我们生活的方方面面。\\\\n\\\\n#### 人工智能与机器学习的区别\\\\n\\\\n虽然机器学习是人工智能的一个子集，但它们之间有着关键的区别：\\\\n\\\\n- **人工智能（AI）**是一个广泛的概念，涵盖所有使计算机执行任务的技术，这些任务通常需要人类智能。人工智能包括但不限于机器学习。\\\\n- **机器学习（ML）**则是实现人工智能的一种方法，尤其是通过数据和算法来寻求模式与预测。换句话说，所有的机器学习都是人工智能，但并非所有的人工智能都是机器学习。\\\\n\\\\n这种关系可以通过一个简单的框架来理解：人工智能是一个大篱笆，机器学习是这个篱笆下的一部分。\\\\n\\\\n#### 机器学习的发展历史\\\\n\\\\n机器学习的历史可以追溯到20世纪50年代。当时，科学家们开始研究如何通过程序设计使计算机能够“学习”。1959年，麻省理工学院的Arthur Samuel首次提出“机器学习”这一术语，并通过一个跳棋程序展示了计算机如何在不断的游戏中改进策略。\\\\n\\\\n随着技术的发展，20世纪80年代和90年代，机器学习得到了进一步的研究和应用，尤其是在神经网络方面。近年来，深度学习的兴起将机器学习推向了一个新的高度，特别是在大数据与计算能力显著提升的背景下，机器学习的实际应用如语音识别、图像处理等，得到了前所未有的发展。\\\\n\\\\n#### 结论\\\\n\\\\n总体而言，机器学习是一项重要而复杂的技术，它通过让计算机从经验中学习，改变了我们与技术的互动方式。随着未来技术的不断进步，机器学习将会在各个领域发挥更加重要的作用。\\\\n\\\\n希望本篇博客能对您了解机器学习有一定帮助！如您对机器学习有更多的疑问或想法，欢迎在评论区与我们交流！\"}', name='save_blog_agent')], type='ToolCallRequestEvent'), ToolCallExecutionEvent(source='save_blog_content_agent', models_usage=None, content=[FunctionExecutionResult(content='Saved', call_id='call_dSwbRNcF1fGOZCQwjQplQMwv', is_error=False)], type='ToolCallExecutionEvent'), ToolCallSummaryMessage(source='save_blog_content_agent', models_usage=None, content='Saved', type='ToolCallSummaryMessage')], stop_reason=\"Text 'Saved' mentioned\")"
      ]
     },
     "execution_count": 38,
     "metadata": {},
     "output_type": "execute_result"
    }
   ],
   "source": [
    "await Console(\n",
    "    reflection_team.run_stream(task=\"\"\"\n",
    "\n",
    "                    I am writing a blog about machine learning. Search for the following 3 questions and write a Chinese blog based on the search results ,save it\n",
    "                    \n",
    "                    1. What is Machine Learning?\n",
    "                    2. The difference between AI and ML\n",
    "                    3. The history of Machine Learning\n",
    "                               \n",
    "\n",
    "    \"\"\")\n",
    ")  # Stream the messages to the console."
   ]
  },
  {
   "cell_type": "code",
   "execution_count": null,
   "metadata": {},
   "outputs": [],
   "source": []
  }
 ],
 "metadata": {
  "kernelspec": {
   "display_name": "venv",
   "language": "python",
   "name": "python3"
  },
  "language_info": {
   "codemirror_mode": {
    "name": "ipython",
    "version": 3
   },
   "file_extension": ".py",
   "mimetype": "text/x-python",
   "name": "python",
   "nbconvert_exporter": "python",
   "pygments_lexer": "ipython3",
   "version": "3.13.2"
  }
 },
 "nbformat": 4,
 "nbformat_minor": 2
}
